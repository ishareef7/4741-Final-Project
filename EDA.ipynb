{
 "cells": [
  {
   "cell_type": "code",
   "execution_count": 213,
   "metadata": {},
   "outputs": [],
   "source": [
    "import numpy as np\n",
    "import pandas as pd\n",
    "import matplotlib.pyplot as plt\n",
    "%matplotlib inline\n",
    "plt.style.use('seaborn-darkgrid')"
   ]
  },
  {
   "cell_type": "code",
   "execution_count": 268,
   "metadata": {},
   "outputs": [
    {
     "ename": "KeyboardInterrupt",
     "evalue": "",
     "output_type": "error",
     "traceback": [
      "\u001b[0;31m---------------------------------------------------------------------------\u001b[0m",
      "\u001b[0;31mKeyboardInterrupt\u001b[0m                         Traceback (most recent call last)",
      "\u001b[0;32m<ipython-input-268-d4dc818974a2>\u001b[0m in \u001b[0;36m<module>\u001b[0;34m()\u001b[0m\n\u001b[1;32m      3\u001b[0m \u001b[0muser_info\u001b[0m \u001b[0;34m=\u001b[0m \u001b[0mpd\u001b[0m\u001b[0;34m.\u001b[0m\u001b[0mread_csv\u001b[0m\u001b[0;34m(\u001b[0m\u001b[0;34m'user_info_format1.csv'\u001b[0m\u001b[0;34m)\u001b[0m\u001b[0;34m\u001b[0m\u001b[0m\n\u001b[1;32m      4\u001b[0m \u001b[0muser_log\u001b[0m \u001b[0;34m=\u001b[0m \u001b[0mpd\u001b[0m\u001b[0;34m.\u001b[0m\u001b[0mread_csv\u001b[0m\u001b[0;34m(\u001b[0m\u001b[0;34m'user_log_format1.csv'\u001b[0m\u001b[0;34m)\u001b[0m\u001b[0;34m\u001b[0m\u001b[0m\n\u001b[0;32m----> 5\u001b[0;31m \u001b[0mfeat\u001b[0m \u001b[0;34m=\u001b[0m \u001b[0mpd\u001b[0m\u001b[0;34m.\u001b[0m\u001b[0mread_csv\u001b[0m\u001b[0;34m(\u001b[0m\u001b[0;34m'X_train_features_tmall.csv'\u001b[0m\u001b[0;34m)\u001b[0m\u001b[0;34m\u001b[0m\u001b[0m\n\u001b[0m",
      "\u001b[0;31mKeyboardInterrupt\u001b[0m: "
     ]
    }
   ],
   "source": [
    "train1 = pd.read_csv('train_format1.csv')\n",
    "train2 = pd.read_csv('train_format2.csv')\n",
    "user_info = pd.read_csv('user_info_format1.csv')\n",
    "user_log = pd.read_csv('user_log_format1.csv')"
   ]
  },
  {
   "cell_type": "code",
   "execution_count": 195,
   "metadata": {
    "collapsed": true
   },
   "outputs": [],
   "source": [
    "m = train1['merchant_id'].value_counts()\n",
    "#Merchants with >1000 customers\n",
    "merchants = m[m>1000].keys()"
   ]
  },
  {
   "cell_type": "code",
   "execution_count": 196,
   "metadata": {},
   "outputs": [
    {
     "name": "stdout",
     "output_type": "stream",
     "text": [
      "Raw Observations = 44834\n",
      "Repeated Buyer Observations = 3192\n"
     ]
    }
   ],
   "source": [
    "#Restrict Training Data for the Merchants with > 1000 custs\n",
    "train1 = train1[train1['merchant_id'].isin(merchants)]\n",
    "\n",
    "print 'Raw Observations =',len(train1)\n",
    "print 'Repeated Buyer Observations =',len(train1[train1['label'] == 1])"
   ]
  },
  {
   "cell_type": "code",
   "execution_count": 197,
   "metadata": {},
   "outputs": [],
   "source": [
    "users = train1['user_id'].values\n",
    "user_info = user_info[user_info['user_id'].isin(users)]"
   ]
  },
  {
   "cell_type": "code",
   "execution_count": 245,
   "metadata": {},
   "outputs": [
    {
     "data": {
      "text/plain": [
       "<matplotlib.legend.Legend at 0x12b570210>"
      ]
     },
     "execution_count": 245,
     "metadata": {},
     "output_type": "execute_result"
    },
    {
     "data": {
      "image/png": "[encoded data removed]",
      "text/plain": [
       "<matplotlib.figure.Figure at 0x148c88390>"
      ]
     },
     "metadata": {},
     "output_type": "display_data"
    }
   ],
   "source": [
    "ind = np.arange(8)\n",
    "\n",
    "male = user_info[user_info['gender'] == 1]['age_range'].value_counts()\n",
    "female = user_info[user_info['gender'] == 0]['age_range'].value_counts()\n",
    "\n",
    "male = male.set_value(1, 0).sort_index()\n",
    "female = female.sort_index()\n",
    "female[7] = female[7] + female[8]\n",
    "male[7] = male[7] + male[8]\n",
    "\n",
    "#User Age ranges\n",
    "p1 = plt.bar(ind, male.values[:8], color='#d62728', label = 'Male')\n",
    "p2 = plt.bar(ind, female.values[:8], bottom = male[:7], label = 'Female')\n",
    "plt.title('Distribution of Age Ranges')\n",
    "plt.xlabel('Age Range')\n",
    "plt.xticks(ind, ('Unknown','<18', ' [18,24]', '[25,29]', '[30,34]', '[35,39]', '[40,49]', '>= 50'))\n",
    "plt.legend()"
   ]
  },
  {
   "cell_type": "code",
   "execution_count": 199,
   "metadata": {},
   "outputs": [],
   "source": [
    "users_info = user_info[user_info.age_range.notnull() & user_info.gender.notnull()]\n",
    "users = user_info.user_id.values\n",
    "user_log = user_log[user_log.user_id.isin(users) &  user_log.seller_id.isin(merchants)]"
   ]
  },
  {
   "cell_type": "code",
   "execution_count": 201,
   "metadata": {},
   "outputs": [
    {
     "data": {
      "text/plain": [
       "929"
      ]
     },
     "execution_count": 201,
     "metadata": {},
     "output_type": "execute_result"
    }
   ],
   "source": [
    "#Number of female repeated buyers\n",
    "female_rb = user_info[user_info['gender'] == 0]['user_id'].values\n",
    "num_frb = len(train1[train1.user_id.isin(female_rb) & train1['label'] == 1])\n",
    "\n",
    "#Number of Age Range =3, repeated buyers\n",
    "three_rb = user_info[user_info['age_range'] == 3]['user_id'].values\n",
    "num_trb = len(train1[train1.user_id.isin(three_rb) & train1['label'] == 1])\n"
   ]
  },
  {
   "cell_type": "code",
   "execution_count": 183,
   "metadata": {
    "collapsed": true
   },
   "outputs": [],
   "source": [
    "#Interactions for Each User in log\n",
    "interactions = user_log.user_id.value_counts()"
   ]
  },
  {
   "cell_type": "code",
   "execution_count": 269,
   "metadata": {
    "collapsed": true
   },
   "outputs": [],
   "source": [
    "feat = pd.read_csv('X_train_features_tmall.csv')"
   ]
  },
  {
   "cell_type": "code",
   "execution_count": 283,
   "metadata": {},
   "outputs": [
    {
     "data": {
      "text/plain": [
       "<matplotlib.text.Text at 0x2420b4650>"
      ]
     },
     "execution_count": 283,
     "metadata": {},
     "output_type": "execute_result"
    },
    {
     "data": {
      "image/png": "[encoded data removed]",
      "text/plain": [
       "<matplotlib.figure.Figure at 0x20f903310>"
      ]
     },
     "metadata": {},
     "output_type": "display_data"
    }
   ],
   "source": [
    "feat = feat[feat['avg_time'] < 100 ]\n",
    "\n",
    "act =feat['action_0'] + feat['action_1'] + feat['action_2'] + feat['action_3']\n",
    "time = feat['avg_time']\n",
    "\n",
    "#select = np.random.randint(0,len(act),100)\n",
    "#time = time[select]\n",
    "#act = act[select]\n",
    "\n",
    "plt.scatter(time, act)\n",
    "plt.title('Average Time Between Interations v. Number of Interations')\n",
    "plt.xlabel('Average Time Between Interations')\n",
    "plt.ylabel('Number of Interations')"
   ]
  },
  {
   "cell_type": "code",
   "execution_count": null,
   "metadata": {
    "collapsed": true
   },
   "outputs": [],
   "source": []
  }
 ],
 "metadata": {
  "kernelspec": {
   "display_name": "Python 2",
   "language": "python",
   "name": "python2"
  },
  "language_info": {
   "codemirror_mode": {
    "name": "ipython",
    "version": 2
   },
   "file_extension": ".py",
   "mimetype": "text/x-python",
   "name": "python",
   "nbconvert_exporter": "python",
   "pygments_lexer": "ipython2",
   "version": "2.7.13"
  }
 },
 "nbformat": 4,
 "nbformat_minor": 2
}
